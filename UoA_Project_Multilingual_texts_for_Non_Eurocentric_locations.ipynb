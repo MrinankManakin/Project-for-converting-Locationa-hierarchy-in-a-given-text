{
 "cells": [
  {
   "cell_type": "code",
   "execution_count": null,
   "id": "f029f924",
   "metadata": {},
   "outputs": [],
   "source": [
    "\n",
    "\n",
    "import geopandas as gpd\n",
    "import matplotlib.pyplot as plt\n",
    "from shapely.geometry import Polygon\n",
    "\n",
    "\n"
   ]
  },
  {
   "cell_type": "code",
   "execution_count": null,
   "id": "94351532",
   "metadata": {},
   "outputs": [],
   "source": [
    "\n",
    "\n",
    "# Load the shapefile\n",
    "shapefile_path = \"C:\\\\Data set\\\\UoA\\\\ne_110m_populated_places\\\\ne_110m_populated_places.shp\"\n",
    "gdf = gpd.read_file(shapefile_path)\n",
    "\n",
    "\n"
   ]
  },
  {
   "cell_type": "code",
   "execution_count": null,
   "id": "b448bd87",
   "metadata": {},
   "outputs": [],
   "source": [
    "\n",
    "\n",
    "# Plot the data\n",
    "gdf.plot()\n",
    "plt.show()\n",
    "\n",
    "\n"
   ]
  },
  {
   "cell_type": "code",
   "execution_count": null,
   "id": "4f0ae446",
   "metadata": {},
   "outputs": [],
   "source": [
    "\n",
    "\n",
    "print(gdf.head())\n",
    "\n",
    "\n"
   ]
  },
  {
   "cell_type": "code",
   "execution_count": null,
   "id": "badc551e",
   "metadata": {},
   "outputs": [],
   "source": [
    "\n",
    "\n",
    "# Access the geometry (points, lines, or polygons)\n",
    "geometry = gdf.geometry\n",
    "\n",
    "# Access the attribute data\n",
    "attributes = gdf.drop(columns='geometry')\n",
    "\n",
    "\n"
   ]
  },
  {
   "cell_type": "code",
   "execution_count": null,
   "id": "5f6a4440",
   "metadata": {},
   "outputs": [],
   "source": [
    "\n",
    "\n",
    "from shapely.geometry import Point\n",
    "\n",
    "\n"
   ]
  },
  {
   "cell_type": "code",
   "execution_count": null,
   "id": "55598d05",
   "metadata": {},
   "outputs": [],
   "source": [
    "\n",
    "\n",
    "bbox_data = {'geometry': [Point(-100, 30), Point(-90, 40)]}\n",
    "bbox_gdf = gpd.GeoDataFrame(bbox_data, crs=gdf.crs)\n",
    "\n",
    "\n"
   ]
  },
  {
   "cell_type": "code",
   "execution_count": null,
   "id": "2e0619ba",
   "metadata": {},
   "outputs": [],
   "source": [
    "\n",
    "\n",
    "# Perform spatial join to find points within the bounding box\n",
    "points_within_bbox = gpd.sjoin(gdf, bbox_gdf, predicate='intersects')\n",
    "\n",
    "\n"
   ]
  },
  {
   "cell_type": "code",
   "execution_count": null,
   "id": "2d00bf0a",
   "metadata": {},
   "outputs": [],
   "source": [
    "\n",
    "\n",
    "output_shapefile_path = 'C:\\Data set\\geodata\\output_shapefile.shp'\n",
    "gdf.to_file(output_shapefile_path)\n",
    "\n",
    "\n"
   ]
  },
  {
   "cell_type": "code",
   "execution_count": null,
   "id": "2d4914c7",
   "metadata": {},
   "outputs": [],
   "source": [
    "\n",
    "\n",
    "print(points_within_bbox.head())\n",
    "print(points_within_bbox.info())\n",
    "\n",
    "\n"
   ]
  },
  {
   "cell_type": "code",
   "execution_count": null,
   "id": "96bca81c",
   "metadata": {},
   "outputs": [],
   "source": [
    "\n",
    "\n",
    "print(gdf.is_valid)  # Check validity of geometries in gdf\n",
    "print(bbox_gdf.is_valid)  # Check validity of geometries in bbox_gdf\n",
    "\n",
    "\n"
   ]
  },
  {
   "cell_type": "code",
   "execution_count": null,
   "id": "1631c049",
   "metadata": {},
   "outputs": [],
   "source": [
    "\n",
    "\n",
    "print(gdf)\n",
    "\n",
    "\n"
   ]
  },
  {
   "cell_type": "code",
   "execution_count": null,
   "id": "6ccbb974",
   "metadata": {},
   "outputs": [],
   "source": [
    "\n",
    "\n",
    "print(bbox_gdf)\n",
    "\n",
    "\n"
   ]
  },
  {
   "cell_type": "code",
   "execution_count": null,
   "id": "6217cfce",
   "metadata": {},
   "outputs": [],
   "source": [
    "\n",
    "\n",
    "import matplotlib.pyplot as plt\n",
    "\n",
    "# Plot the points in gdf and the bounding box in bbox_gdf on the same plot\n",
    "ax = gdf.plot(markersize=5, color='blue', label='Points in gdf')\n",
    "bbox_gdf.plot(ax=ax, markersize=50, color='red', label='Bounding Box')\n",
    "plt.legend()\n",
    "plt.show()\n",
    "\n",
    "\n",
    "# To find the cities that are non-Eurocentric locations the code is given below\n",
    "\n"
   ]
  },
  {
   "cell_type": "code",
   "execution_count": null,
   "id": "df34247b",
   "metadata": {},
   "outputs": [],
   "source": [
    "\n",
    "\n",
    "# Load the GeoDataFrame from the provided files (CPG, DBF, PRJ, SHP, SHX)\n",
    "file_path = r'C:\\Data set\\UoA\\ne_110m_populated_places' # Replace this with the directory where your files are located\n",
    "gdf = gpd.read_file(file_path)\n",
    "\n",
    "\n"
   ]
  },
  {
   "cell_type": "code",
   "execution_count": null,
   "id": "d292d2c8",
   "metadata": {},
   "outputs": [],
   "source": [
    "\n",
    "\n",
    "# Define a bounding box for Europe as a single polygon\n",
    "europe_bbox_poly = Polygon([(-24, 34), (-24, 71), (40, 71), (40, 34)])\n",
    "europe_bbox_gdf = gpd.GeoDataFrame({'geometry': [europe_bbox_poly]}, crs='EPSG:4326')\n",
    "\n",
    "\n"
   ]
  },
  {
   "cell_type": "code",
   "execution_count": null,
   "id": "4ad181d1",
   "metadata": {},
   "outputs": [],
   "source": [
    "\n",
    "\n",
    "# Perform spatial join to find cities outside Europe\n",
    "non_eurocentric_cities = gpd.sjoin(gdf, europe_bbox_gdf, how='left', predicate='intersects')\n",
    "non_eurocentric_cities = non_eurocentric_cities[non_eurocentric_cities['index_right'].isnull()]\n",
    "\n",
    "\n"
   ]
  },
  {
   "cell_type": "code",
   "execution_count": null,
   "id": "5194a30a",
   "metadata": {},
   "outputs": [],
   "source": [
    "\n",
    "\n",
    "# Print the column names in the non_eurocentric_cities GeoDataFrame\n",
    "print(non_eurocentric_cities.columns)\n",
    "\n",
    "\n",
    "# # USING NLP WE ARE DETECTING THE CITY IN A GIVEN SENTENCE\n",
    "\n"
   ]
  },
  {
   "cell_type": "code",
   "execution_count": null,
   "id": "9efbbeee",
   "metadata": {},
   "outputs": [],
   "source": [
    "\n",
    "\n",
    "import requests\n",
    "import spacy\n",
    "from fuzzywuzzy import fuzz\n",
    "from opencage.geocoder import OpenCageGeocode\n",
    "from langdetect import detect\n",
    "from googletrans import Translator\n",
    "\n",
    "\n"
   ]
  },
  {
   "cell_type": "code",
   "execution_count": null,
   "id": "4a244805",
   "metadata": {},
   "outputs": [],
   "source": [
    "\n",
    "\n",
    "# Load spaCy's English language model\n",
    "nlp = spacy.load('en_core_web_sm')\n",
    "\n",
    "def extract_location_entities(sentence, lang='en'):\n",
    "    if lang != 'en':\n",
    "        translator = Translator()\n",
    "        sentence = translator.translate(sentence, src=lang, dest='en').text\n",
    "\n",
    "    doc = nlp(sentence)\n",
    "    locations = []\n",
    "\n",
    "    for ent in doc.ents:\n",
    "        if ent.label_ == 'GPE':  # GPE: Geo-Political Entity (location)\n",
    "            locations.append((ent.text, ent.start_char, ent.end_char))\n",
    "\n",
    "    return locations\n",
    "\n",
    "def get_location_info(location, api_key):\n",
    "    try:\n",
    "        geocoder = OpenCageGeocode(api_key)\n",
    "        results = geocoder.geocode(location)\n",
    "\n",
    "        if results and len(results):\n",
    "            place = results[0]\n",
    "            return {\n",
    "                'name': place['formatted'],\n",
    "                'country': place['components']['country'],\n",
    "                'latitude': place['geometry']['lat'],\n",
    "                'longitude': place['geometry']['lng']\n",
    "            }\n",
    "        else:\n",
    "            return None\n",
    "\n",
    "    except Exception as e:\n",
    "        print(f\"Error: {e}\")\n",
    "        return None\n",
    "\n",
    "\n"
   ]
  },
  {
   "cell_type": "code",
   "execution_count": null,
   "id": "ebc993a0",
   "metadata": {},
   "outputs": [],
   "source": [
    "\n",
    "\n",
    "# Example usage\n",
    "api_key = \"08e5bf766e5842b880d7e140ce85d343\"  # Replace with your actual OpenCageData API key\n",
    "user_input = input(\"Enter the text (in any language) containing city or country names: \")\n",
    "\n",
    "# Detect the language of the input text\n",
    "lang = detect(user_input)\n",
    "\n",
    "locations = extract_location_entities(user_input, lang)\n",
    "\n",
    "if locations:\n",
    "    print(\"Location Entities:\")\n",
    "    for location in locations:\n",
    "        info = get_location_info(location[0], api_key)\n",
    "        if info:\n",
    "            print(f\"Original Name: {location[0]}\")\n",
    "            print(f\"English Name: {info['name']}\")\n",
    "            print(f\"Country: {info['country']}\")\n",
    "            print(f\"Latitude: {info['latitude']}, Longitude: {info['longitude']}\")\n",
    "            print(\"=\" * 30)\n",
    "        else:\n",
    "            print(f\"Location '{location[0]}' not found.\")\n",
    "else:\n",
    "    print(\"No location entities found in the sentence.\")\n",
    "\n",
    "\n"
   ]
  },
  {
   "cell_type": "code",
   "execution_count": null,
   "id": "cf52db06",
   "metadata": {},
   "outputs": [],
   "source": [
    "\n",
    "\n",
    "\n",
    "\n",
    "\n"
   ]
  },
  {
   "cell_type": "code",
   "execution_count": null,
   "id": "85eea485",
   "metadata": {},
   "outputs": [],
   "source": [
    "\n",
    "\n",
    "\n",
    "\n",
    "\n"
   ]
  },
  {
   "cell_type": "code",
   "execution_count": null,
   "id": "bcc283ba",
   "metadata": {},
   "outputs": [],
   "source": [
    "\n",
    "\n",
    "\n",
    "\n"
   ]
  }
 ],
 "metadata": {},
 "nbformat": 4,
 "nbformat_minor": 5
}
